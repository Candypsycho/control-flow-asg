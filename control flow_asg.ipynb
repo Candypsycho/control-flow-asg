{
 "cells": [
  {
   "cell_type": "code",
   "execution_count": 1,
   "id": "422fab13-050e-42cf-91fb-e98b8ac52a74",
   "metadata": {},
   "outputs": [
    {
     "name": "stdin",
     "output_type": "stream",
     "text": [
      "enter a number to check whether it is positive or negative 2\n"
     ]
    },
    {
     "name": "stdout",
     "output_type": "stream",
     "text": [
      "positive number\n"
     ]
    }
   ],
   "source": [
    "#1\n",
    "n=int(input(\"enter a number to check whether it is positive or negative\"))\n",
    "if n>=0:\n",
    "    print(\"positive number\")\n",
    "else:\n",
    "    print(\"negative number\")"
   ]
  },
  {
   "cell_type": "code",
   "execution_count": 2,
   "id": "1e6272b7-0572-4bd1-a3c1-eb68c2683845",
   "metadata": {},
   "outputs": [
    {
     "name": "stdin",
     "output_type": "stream",
     "text": [
      "enter your age 18\n"
     ]
    },
    {
     "name": "stdout",
     "output_type": "stream",
     "text": [
      "you can vote\n"
     ]
    }
   ],
   "source": [
    " #2\n",
    "age=int(input(\"enter your age\"))\n",
    "if age>=18:\n",
    "    print(\"you can vote\")\n",
    "else:\n",
    "    print(\"you can't vote\")\n",
    "    "
   ]
  },
  {
   "cell_type": "code",
   "execution_count": 3,
   "id": "d66b216c-e671-459b-bacb-2cba0657dabc",
   "metadata": {},
   "outputs": [
    {
     "name": "stdin",
     "output_type": "stream",
     "text": [
      "enter first number 5\n",
      "enter second number 4\n"
     ]
    },
    {
     "name": "stdout",
     "output_type": "stream",
     "text": [
      "largest number is: 5\n"
     ]
    }
   ],
   "source": [
    "#3\n",
    "num1=int(input(\"enter first number\"))\n",
    "num2=int(input(\"enter second number\"))\n",
    "if num1>num2:\n",
    "    largest=num1\n",
    "    print(\"largest number is:\",largest)\n",
    "else:\n",
    "    largest=num2\n",
    "    print(\"largest number is:\",largest)"
   ]
  },
  {
   "cell_type": "code",
   "execution_count": 4,
   "id": "386b5685-2124-4625-a56c-9e983a5db166",
   "metadata": {},
   "outputs": [
    {
     "name": "stdin",
     "output_type": "stream",
     "text": [
      "enter year to be checked 2020\n"
     ]
    },
    {
     "name": "stdout",
     "output_type": "stream",
     "text": [
      "the year is a leap year\n"
     ]
    }
   ],
   "source": [
    "#4\n",
    "year=int(input(\"enter year to be checked\"))\n",
    "if(year%4==0 and year%100!=0 or year%400 ==0):\n",
    "    print(\"the year is a leap year\")\n",
    "else:\n",
    "    print(\"the year is not a leap year\")"
   ]
  },
  {
   "cell_type": "code",
   "execution_count": 5,
   "id": "86a4edc1-27e9-463e-aec6-bc1e14c6cd8f",
   "metadata": {},
   "outputs": [
    {
     "name": "stdin",
     "output_type": "stream",
     "text": [
      "enter any character pwskills\n"
     ]
    },
    {
     "name": "stdout",
     "output_type": "stream",
     "text": [
      "pwskills is a consonant\n"
     ]
    }
   ],
   "source": [
    "#5\n",
    "char=input(\"enter any character\")\n",
    "vowels=['a','e','i','o','u','A','E','I','O','U']\n",
    "if char in vowels:\n",
    "    print(f\"{char} is a vowel\")\n",
    "else:\n",
    "    print(f\"{char} is a consonant\")"
   ]
  },
  {
   "cell_type": "code",
   "execution_count": 6,
   "id": "1cc8b080-6b2c-4902-bfaa-47f77299b944",
   "metadata": {},
   "outputs": [
    {
     "name": "stdin",
     "output_type": "stream",
     "text": [
      "enter a word radar\n"
     ]
    },
    {
     "name": "stdout",
     "output_type": "stream",
     "text": [
      "radar is a vowel\n"
     ]
    }
   ],
   "source": [
    "#5\n",
    "char=input(\"enter a word\")\n",
    "if(char=='a',char=='e',char=='i',char=='o',char=='u'):\n",
    "    print(char ,\"is a vowel\")\n",
    "else:\n",
    "    print(char,\"is a consonant\")"
   ]
  },
  {
   "cell_type": "code",
   "execution_count": 7,
   "id": "2fa3d447-b24d-4c24-a359-4a448e6ec35b",
   "metadata": {},
   "outputs": [
    {
     "name": "stdout",
     "output_type": "stream",
     "text": [
      "even numbers  [2, 4, 6, 8, 10, 12, 14, 16, 18]\n",
      "number is [1, 3, 5, 7, 9, 11, 13, 15, 17, 19]\n"
     ]
    }
   ],
   "source": [
    "#6-----approach 1\n",
    "count_even=[]\n",
    "count_odd=[]\n",
    "\n",
    "for i in range(1,20):\n",
    "    if i%2==0:\n",
    "        count_even.append(i)\n",
    "    else:\n",
    "        count_odd.append(i)\n",
    "print(\"even numbers \",count_even)\n",
    "print(\"number is\",count_odd)"
   ]
  },
  {
   "cell_type": "code",
   "execution_count": 8,
   "id": "1d4d20d3-e272-4dc1-94a0-504fdaf713d7",
   "metadata": {},
   "outputs": [
    {
     "name": "stdin",
     "output_type": "stream",
     "text": [
      "enter any number 45\n"
     ]
    },
    {
     "name": "stdout",
     "output_type": "stream",
     "text": [
      "odd number\n"
     ]
    }
   ],
   "source": [
    "#q6--approach 2\n",
    "n=int(input(\"enter any number\"))\n",
    "if n%2==0:\n",
    "    print(\"even number\")\n",
    "else:\n",
    "    print(\"odd number\")"
   ]
  },
  {
   "cell_type": "code",
   "execution_count": 9,
   "id": "96831aa5-b039-43d4-9fb6-14ce50a4f358",
   "metadata": {},
   "outputs": [
    {
     "name": "stdout",
     "output_type": "stream",
     "text": [
      "3.5\n",
      "None\n"
     ]
    }
   ],
   "source": [
    "#7\n",
    "def my_abs(value):\n",
    "    if value<5:\n",
    "        print(value*1)\n",
    "    else:\n",
    "        print(value*-1)\n",
    "print(my_abs(3.5))"
   ]
  },
  {
   "cell_type": "code",
   "execution_count": 10,
   "id": "92267550-1362-421a-821c-11970c9f6908",
   "metadata": {},
   "outputs": [
    {
     "name": "stdout",
     "output_type": "stream",
     "text": [
      "largest is 30\n"
     ]
    }
   ],
   "source": [
    "#8\n",
    "num1=10\n",
    "num2=20\n",
    "num3=30\n",
    "if num1>num2 and num1>num3:\n",
    "    largest=num1\n",
    "    print(\"largest is\",largest)\n",
    "if num2>num1 and num2>num3:\n",
    "    largest=num2\n",
    "    print(\"largest is\", largest)\n",
    "else:\n",
    "    largest=num3\n",
    "    print('largest is',largest)"
   ]
  },
  {
   "cell_type": "code",
   "execution_count": 11,
   "id": "09466947-ca55-45be-ae49-14e2a23fa1cd",
   "metadata": {},
   "outputs": [
    {
     "name": "stdin",
     "output_type": "stream",
     "text": [
      "enter any character radar\n"
     ]
    },
    {
     "name": "stdout",
     "output_type": "stream",
     "text": [
      "the string is pallindrome\n"
     ]
    }
   ],
   "source": [
    "#9----approach 1\n",
    "string_=input(\"enter any character\")\n",
    "if(string_==string_[::-1]):\n",
    "    print(\"the string is pallindrome\")\n",
    "else:\n",
    "    print(\"this is not\")\n",
    "    "
   ]
  },
  {
   "cell_type": "code",
   "execution_count": 12,
   "id": "37a685c4-a2ff-4806-88b8-cad7e6ff9009",
   "metadata": {},
   "outputs": [
    {
     "name": "stdin",
     "output_type": "stream",
     "text": [
      "enter a string madam\n"
     ]
    },
    {
     "name": "stdout",
     "output_type": "stream",
     "text": [
      "this string is pallindrome\n"
     ]
    }
   ],
   "source": [
    "#9----approach second\n",
    "def is_pallindrome(s):\n",
    "    if s==s[::-1]:\n",
    "        return \"this string is pallindrome\"\n",
    "    else:\n",
    "        return \"this is not\"\n",
    "s=input(\"enter a string\")\n",
    "print(is_pallindrome(s))\n",
    "        "
   ]
  },
  {
   "cell_type": "code",
   "execution_count": 13,
   "id": "5e9ac100-8a0a-4c3a-af3b-48f25e689693",
   "metadata": {},
   "outputs": [
    {
     "name": "stdin",
     "output_type": "stream",
     "text": [
      "enter your score 78\n"
     ]
    },
    {
     "name": "stdout",
     "output_type": "stream",
     "text": [
      "grade a\n"
     ]
    }
   ],
   "source": [
    "#10\n",
    "score=int(input(\"enter your score\"))\n",
    "\n",
    "if score>=80:\n",
    "    print(\"distinction\")\n",
    "\n",
    "elif score>=60:\n",
    "    print(\"grade a\")\n",
    "\n",
    "elif score>=40:\n",
    "    print(\"grade b\")\n",
    "\n",
    "else:\n",
    "    print(\"fail\")"
   ]
  },
  {
   "cell_type": "code",
   "execution_count": 14,
   "id": "656d36f4-6da8-4810-9125-5c69caaa7237",
   "metadata": {},
   "outputs": [],
   "source": [
    "###nested if else statements\n"
   ]
  },
  {
   "cell_type": "code",
   "execution_count": 15,
   "id": "cce41ea4-ada5-4269-b435-5bea7755d338",
   "metadata": {},
   "outputs": [
    {
     "name": "stdin",
     "output_type": "stream",
     "text": [
      "enter first number 67\n",
      "enter second number 76\n",
      "enter third number 56\n"
     ]
    },
    {
     "name": "stdout",
     "output_type": "stream",
     "text": [
      "greatest number is: 76\n"
     ]
    }
   ],
   "source": [
    "#11\n",
    "num1=int(input(\"enter first number\"))\n",
    "num2=int(input(\"enter second number\"))\n",
    "num3=int(input(\"enter third number\"))\n",
    "if num1>num2:\n",
    "    if num1>num3:\n",
    "        greater=num1\n",
    "    else:\n",
    "        greater=num3\n",
    "        \n",
    "        \n",
    "else:\n",
    "    if num2>num1:\n",
    "        greater=num2\n",
    "    else:\n",
    "        greater=num3\n",
    "print(\"greatest number is:\",greater)"
   ]
  },
  {
   "cell_type": "code",
   "execution_count": 120,
   "id": "d4cde502-6330-404b-91a9-27cea64a8878",
   "metadata": {},
   "outputs": [
    {
     "name": "stdout",
     "output_type": "stream",
     "text": [
      "The triangle is Scalene.\n"
     ]
    }
   ],
   "source": [
    "#12\n",
    "def triangle_type(side1, side2, side3):\n",
    "    if side1 == side2 == side3:\n",
    "        return \"Equilateral\"\n",
    "    elif side1 == side2 or side2 == side3 or side1 == side3:\n",
    "        return \"Isosceles\"\n",
    "    else:\n",
    "        return \"Scalene\"\n",
    "\n",
    "# Example usage:\n",
    "side1, side2, side3 = 3, 4, 5\n",
    "result = triangle_type(side1, side2, side3)\n",
    "print(f\"The triangle is {result}.\")\n"
   ]
  },
  {
   "cell_type": "code",
   "execution_count": 121,
   "id": "9a5490ac-2c7a-4380-b143-af627633a608",
   "metadata": {},
   "outputs": [
    {
     "name": "stdout",
     "output_type": "stream",
     "text": [
      "2020 is a leap year.\n"
     ]
    }
   ],
   "source": [
    "#13\n",
    "def is_leap_year(year):\n",
    "    if (year % 4 == 0 and year % 100 != 0) or (year % 400 == 0):\n",
    "        return True\n",
    "    else:\n",
    "        return False\n",
    "\n",
    "# Example usage:\n",
    "year = 2020\n",
    "if is_leap_year(year):\n",
    "    print(f\"{year} is a leap year.\")\n",
    "    if year % 100 == 0:\n",
    "        print(f\"But {year} is also a century year.\")\n",
    "else:\n",
    "    print(f\"{year} is not a leap year.\")\n"
   ]
  },
  {
   "cell_type": "code",
   "execution_count": 122,
   "id": "91d87766-a457-47fc-b775-fc851fa1c40c",
   "metadata": {},
   "outputs": [
    {
     "name": "stdout",
     "output_type": "stream",
     "text": [
      "The number is Negative.\n"
     ]
    }
   ],
   "source": [
    "#14\n",
    "def check_number(num):\n",
    "    if num > 0:\n",
    "        return \"Positive\"\n",
    "    elif num < 0:\n",
    "        return \"Negative\"\n",
    "    else:\n",
    "        return \"Zero\"\n",
    "\n",
    "# Example usage:\n",
    "number = -7\n",
    "result = check_number(number)\n",
    "print(f\"The number is {result}.\")\n"
   ]
  },
  {
   "cell_type": "code",
   "execution_count": 123,
   "id": "60ca6ae6-b5fb-4389-a23c-ba176c66c5aa",
   "metadata": {},
   "outputs": [
    {
     "name": "stdout",
     "output_type": "stream",
     "text": [
      "The person is a teenager.\n"
     ]
    }
   ],
   "source": [
    "#15\n",
    "def is_teenager(age):\n",
    "    if 13 <= age <= 19:\n",
    "        return True\n",
    "    else:\n",
    "        return False\n",
    "\n",
    "# Example usage:\n",
    "person_age = 16\n",
    "if is_teenager(person_age):\n",
    "    print(\"The person is a teenager.\")\n",
    "else:\n",
    "    print(\"The person is not a teenager.\")\n"
   ]
  },
  {
   "cell_type": "code",
   "execution_count": 124,
   "id": "e27031f8-9da9-412f-8cfd-7919ac552515",
   "metadata": {},
   "outputs": [
    {
     "name": "stdout",
     "output_type": "stream",
     "text": [
      "The angle is Obtuse Angle.\n"
     ]
    }
   ],
   "source": [
    "#16\n",
    "def angle_type(angle):\n",
    "    if angle < 90:\n",
    "        return \"Acute Angle\"\n",
    "    elif angle == 90:\n",
    "        return \"Right Angle\"\n",
    "    else:\n",
    "        return \"Obtuse Angle\"\n",
    "\n",
    "# Example usage:\n",
    "angle_measure = 120\n",
    "result = angle_type(angle_measure)\n",
    "print(f\"The angle is {result}.\")\n"
   ]
  },
  {
   "cell_type": "code",
   "execution_count": 125,
   "id": "ab2f7611-5d02-4622-b835-bd55efb8ab3f",
   "metadata": {},
   "outputs": [
    {
     "name": "stdout",
     "output_type": "stream",
     "text": [
      "The roots of the quadratic equation are ((2+0j), (1+0j)).\n"
     ]
    }
   ],
   "source": [
    "#17\n",
    "import cmath\n",
    "\n",
    "def quadratic_roots(a, b, c):\n",
    "    delta = cmath.sqrt(b**2 - 4*a*c)\n",
    "    root1 = (-b + delta) / (2*a)\n",
    "    root2 = (-b - delta) / (2*a)\n",
    "    return root1, root2\n",
    "\n",
    "# Example usage:\n",
    "a, b, c = 1, -3, 2\n",
    "roots = quadratic_roots(a, b, c)\n",
    "print(f\"The roots of the quadratic equation are {roots}.\")\n"
   ]
  },
  {
   "cell_type": "code",
   "execution_count": 126,
   "id": "f268e9c7-d9d5-4656-9b19-e496016875b0",
   "metadata": {},
   "outputs": [
    {
     "name": "stdout",
     "output_type": "stream",
     "text": [
      "The day is Wednesday.\n"
     ]
    }
   ],
   "source": [
    "#18\n",
    "def day_of_week(day_number):\n",
    "    days = [\"Monday\", \"Tuesday\", \"Wednesday\", \"Thursday\", \"Friday\", \"Saturday\", \"Sunday\"]\n",
    "    if 1 <= day_number <= 7:\n",
    "        return days[day_number - 1]\n",
    "    else:\n",
    "        return \"Invalid day number\"\n",
    "\n",
    "# Example usage:\n",
    "user_day_number = 3\n",
    "result = day_of_week(user_day_number)\n",
    "print(f\"The day is {result}.\")\n"
   ]
  },
  {
   "cell_type": "code",
   "execution_count": 127,
   "id": "ad8ee691-f18b-4d1f-877a-e5b814b40d24",
   "metadata": {},
   "outputs": [
    {
     "name": "stdout",
     "output_type": "stream",
     "text": [
      "2000 is a leap year and evenly divisible by 400.\n"
     ]
    }
   ],
   "source": [
    "#19\n",
    "def is_leap_year(year):\n",
    "    if (year % 4 == 0 and year % 100 != 0) or (year % 400 == 0):\n",
    "        return True\n",
    "    else:\n",
    "        return False\n",
    "\n",
    "# Example usage:\n",
    "year = 2000\n",
    "if is_leap_year(year):\n",
    "    print(f\"{year} is a leap year and evenly divisible by 400.\")\n",
    "else:\n",
    "    print(f\"{year} is not a leap year or not evenly divisible by 400.\")\n"
   ]
  },
  {
   "cell_type": "code",
   "execution_count": 128,
   "id": "709ece00-f38e-4eb1-bcb8-25d214f8879d",
   "metadata": {},
   "outputs": [
    {
     "name": "stdout",
     "output_type": "stream",
     "text": [
      "19 is a prime number.\n"
     ]
    }
   ],
   "source": [
    "#20\n",
    "def is_prime(number):\n",
    "    if number > 1:\n",
    "        for i in range(2, int(number**0.5) + 1):\n",
    "            if (number % i) == 0:\n",
    "                return False\n",
    "        return True\n",
    "    else:\n",
    "        return False\n",
    "\n",
    "# Example usage:\n",
    "num = 19\n",
    "if is_prime(num):\n",
    "    print(f\"{num} is a prime number.\")\n",
    "else:\n",
    "    print(f\"{num} is not a prime number.\")\n"
   ]
  },
  {
   "cell_type": "markdown",
   "id": "35248246-558d-4e93-aae8-447561297fe4",
   "metadata": {},
   "source": [
    "##elif statements"
   ]
  },
  {
   "cell_type": "code",
   "execution_count": 17,
   "id": "d506804d-c18a-47c0-a647-add216ef7878",
   "metadata": {},
   "outputs": [
    {
     "name": "stdin",
     "output_type": "stream",
     "text": [
      "enter your score 67\n"
     ]
    },
    {
     "name": "stdout",
     "output_type": "stream",
     "text": [
      "grade b\n"
     ]
    }
   ],
   "source": [
    "#21\n",
    "score=int(input(\"enter your score\"))\n",
    "if score>=90:\n",
    "    print(\"distinction\")\n",
    "elif score>=70:\n",
    "    print(\"grade a\")\n",
    "elif score>=60:\n",
    "    print(\"grade b\")\n",
    "elif score>=50:\n",
    "    print(\"grade c\")\n",
    "elif score>=33:\n",
    "    print(\"grade d\")\n",
    "else:\n",
    "    print(\"fail\")"
   ]
  },
  {
   "cell_type": "code",
   "execution_count": 18,
   "id": "9f289a42-d65d-4169-b2cc-05489cba986b",
   "metadata": {},
   "outputs": [
    {
     "name": "stdin",
     "output_type": "stream",
     "text": [
      "x:  8\n",
      "y:  7\n",
      "z:  6\n"
     ]
    },
    {
     "name": "stdout",
     "output_type": "stream",
     "text": [
      "scalene triangle\n"
     ]
    }
   ],
   "source": [
    "#22\n",
    "x=int(input(\"x: \"))\n",
    "y=int(input(\"y: \"))\n",
    "z=int(input(\"z: \"))\n",
    "if x==y==z:\n",
    "    print(\"equitorial triangle\")\n",
    "elif x==y or y==z or z==x:\n",
    "    print(\"isosceles triangle\")\n",
    "else:\n",
    "    print(\"scalene triangle\")"
   ]
  },
  {
   "cell_type": "code",
   "execution_count": 19,
   "id": "1dd98686-dc2a-451f-9675-eae3116bdf60",
   "metadata": {},
   "outputs": [
    {
     "name": "stdin",
     "output_type": "stream",
     "text": [
      "enter your height 1.79832\n",
      "enter your weight 70\n"
     ]
    },
    {
     "name": "stdout",
     "output_type": "stream",
     "text": [
      "your bmi is 216453.24020961815\n"
     ]
    }
   ],
   "source": [
    "#23\n",
    "height=float(input(\"enter your height\"))\n",
    "weight=float(input(\"enter your weight\"))\n",
    "BMI=weight/(height/100)**2\n",
    "if BMI<18.4:\n",
    "    print(\"underweight\")\n",
    "elif BMI>=18.4 and BMI<24.9:\n",
    "    print(\"normal weight\")\n",
    "elif BMI>=24.9 and BMI <29.9:\n",
    "    print(\"overweight\")\n",
    "elif BMI>=30 and BMI==40:\n",
    "    print(\"suffering from obesity\")\n",
    "print(\"your bmi is\",BMI)"
   ]
  },
  {
   "cell_type": "code",
   "execution_count": 20,
   "id": "3e286ab0-4378-45e6-8317-9f94da31d3ec",
   "metadata": {},
   "outputs": [
    {
     "name": "stdin",
     "output_type": "stream",
     "text": [
      "enter any number to check 6\n"
     ]
    },
    {
     "name": "stdout",
     "output_type": "stream",
     "text": [
      "positive number\n"
     ]
    }
   ],
   "source": [
    "#24\n",
    "n=int(input(\"enter any number to check\"))\n",
    "if n>=1:\n",
    "    print(\"positive number\")\n",
    "elif n>=0:\n",
    "    print(\"zero\")\n",
    "else:\n",
    "    print(\"negative number\")"
   ]
  },
  {
   "cell_type": "code",
   "execution_count": 21,
   "id": "9b8f269f-acf8-4f18-9dc1-e4ed60cde73c",
   "metadata": {},
   "outputs": [
    {
     "name": "stdout",
     "output_type": "stream",
     "text": [
      "uppercase character\n",
      "lowercase character\n",
      "special character\n"
     ]
    }
   ],
   "source": [
    "#25\n",
    "def char_type(char):\n",
    "    if char.isupper():\n",
    "        print(\"uppercase character\")\n",
    "    elif char.islower():\n",
    "        print(\"lowercase character\")\n",
    "    else:\n",
    "        print(\"special character\")\n",
    "\n",
    "char_type(\"SYED\")\n",
    "char_type(\"syed\")\n",
    "char_type('*')"
   ]
  },
  {
   "cell_type": "code",
   "execution_count": 22,
   "id": "d2164547-7b4d-48c7-80d6-f204bb44b57f",
   "metadata": {},
   "outputs": [
    {
     "name": "stdin",
     "output_type": "stream",
     "text": [
      "enter purchase amount 30000\n"
     ]
    },
    {
     "name": "stdout",
     "output_type": "stream",
     "text": [
      "discount : 9000.0\n",
      "net pay : 21000.0\n"
     ]
    }
   ],
   "source": [
    "#26\n",
    "p=int(input(\"enter purchase amount\"))\n",
    "if p>0:\n",
    "    if p<=5000:\n",
    "        dics=p*0.5\n",
    "    elif p<=15000:\n",
    "        dics=p*0.12\n",
    "    elif p<=25000:\n",
    "        disc=0.2*p\n",
    "        \n",
    "    else:\n",
    "        disc=0.3*p\n",
    "    print(\"discount :\",disc)\n",
    "    print(\"net pay :\",p-disc)\n",
    "else:\n",
    "    print(\"invalid amount\")"
   ]
  },
  {
   "cell_type": "code",
   "execution_count": 23,
   "id": "eb9fb761-c0db-4ee2-8b97-eb3b98abf303",
   "metadata": {},
   "outputs": [
    {
     "name": "stdout",
     "output_type": "stream",
     "text": [
      "Electricity Bill: 275.00\n"
     ]
    }
   ],
   "source": [
    "#27\n",
    "def calculate_electricity_bill(units):\n",
    "    if units <= 100:\n",
    "        bill = units * 1.5\n",
    "    elif units <= 200:\n",
    "        bill = 100 * 1.5 + (units - 100) * 2.5\n",
    "    elif units <= 300:\n",
    "        bill = 100 * 1.5 + 100 * 2.5 + (units - 200) * 3.5\n",
    "    else:\n",
    "        bill = 100 * 1.5 + 100 * 2.5 + 100 * 3.5 + (units - 300) * 4.5\n",
    "\n",
    "    print(f\"Electricity Bill: {bill:.2f}\")\n",
    "\n",
    "\n",
    "calculate_electricity_bill(150)\n"
   ]
  },
  {
   "cell_type": "code",
   "execution_count": 24,
   "id": "32e15011-3d73-408c-b9e5-beac6bd4638e",
   "metadata": {},
   "outputs": [
    {
     "name": "stdout",
     "output_type": "stream",
     "text": [
      "It's a rectangle.\n"
     ]
    }
   ],
   "source": [
    "#28\n",
    "def quadrilateral_type(sides, angles):\n",
    "    if len(sides) == 4 and len(angles) == 4:\n",
    "        if all(angle == 90 for angle in angles):\n",
    "            print(\"It's a rectangle.\")\n",
    "        elif any(angle == 90 for angle in angles):\n",
    "            print(\"It's a quadrilateral with some right angles.\")\n",
    "        else:\n",
    "            print(\"It's a general quadrilateral.\")\n",
    "    else:\n",
    "        print(\"Invalid input. Please provide 4 sides and 4 angles.\")\n",
    "\n",
    "\n",
    "quadrilateral_type([4, 4, 6, 6], [90, 90, 90, 90])\n"
   ]
  },
  {
   "cell_type": "code",
   "execution_count": 25,
   "id": "827f8ac8-64e1-4dc6-b7d5-0fad4040606c",
   "metadata": {},
   "outputs": [
    {
     "name": "stdout",
     "output_type": "stream",
     "text": [
      "spring\n",
      "winter\n"
     ]
    }
   ],
   "source": [
    "#29\n",
    "def season_finder(n):\n",
    "    list1=[[12,1,2],[3,4,5],[6,7,8],[9,10,11]]\n",
    "    if n in list1[0]:\n",
    "        print(\"winter\")\n",
    "    elif n in list1[1]:\n",
    "        print(\"spring\")\n",
    "    elif n in list1[2]:\n",
    "        print(\"summer\")\n",
    "    else:\n",
    "        print(\"autumn\")\n",
    "n=5\n",
    "season_finder(n)\n",
    "n=1\n",
    "season_finder(n)"
   ]
  },
  {
   "cell_type": "code",
   "execution_count": 26,
   "id": "f401c0da-96f6-4fff-97ff-87b2f542e8a8",
   "metadata": {},
   "outputs": [
    {
     "name": "stdout",
     "output_type": "stream",
     "text": [
      "28 days\n"
     ]
    }
   ],
   "source": [
    "#30\n",
    "def determine_year_month_type(year, month):\n",
    "    if year % 4 == 0 and (year % 100 != 0 or year % 400 == 0):\n",
    "        print(\"Leap year\")\n",
    "\n",
    "    if month in [1, 3, 5, 7, 8, 10, 12]:\n",
    "        print(\"31 days\")\n",
    "    elif month in [4, 6, 9, 11]:\n",
    "        print(\"30 days\")\n",
    "    elif month == 2:\n",
    "        if year % 4 == 0 and (year % 100 != 0 or year % 400 == 0):\n",
    "            print(\"29 days (leap year)\")\n",
    "        else:\n",
    "            print(\"28 days\")\n",
    "\n",
    "# Example usage:\n",
    "determine_year_month_type(2023, 2)\n"
   ]
  },
  {
   "cell_type": "markdown",
   "id": "456d332f-b07b-4fb0-86aa-fd75163b9293",
   "metadata": {},
   "source": [
    " ####basic level###\n",
    " "
   ]
  },
  {
   "cell_type": "code",
   "execution_count": 27,
   "id": "44530fdc-2b93-4fcd-a5ba-b161364c2578",
   "metadata": {},
   "outputs": [
    {
     "name": "stdin",
     "output_type": "stream",
     "text": [
      "enter any number 6\n"
     ]
    },
    {
     "name": "stdout",
     "output_type": "stream",
     "text": [
      "positive number\n"
     ]
    }
   ],
   "source": [
    "#1\n",
    "n=int(input(\"enter any number\"))\n",
    "if n>=1:\n",
    "    print(\"positive number\")\n",
    "elif n==0:\n",
    "    print(\"zero\")\n",
    "else:\n",
    "    print(\"negative number\")"
   ]
  },
  {
   "cell_type": "code",
   "execution_count": 28,
   "id": "5a85a689-5e1d-4074-b514-aa6a7ef7fd4f",
   "metadata": {},
   "outputs": [
    {
     "name": "stdin",
     "output_type": "stream",
     "text": [
      "enter your age 18\n"
     ]
    },
    {
     "name": "stdout",
     "output_type": "stream",
     "text": [
      "you can vote\n"
     ]
    }
   ],
   "source": [
    "#2\n",
    "age=int(input(\"enter your age\"))\n",
    "if age>=18:\n",
    "    print(\"you can vote\")\n",
    "else:\n",
    "    print(\"you can't vote\")\n",
    "    "
   ]
  },
  {
   "cell_type": "code",
   "execution_count": 29,
   "id": "23d1489e-c540-4b6f-ac58-fbef8d521db6",
   "metadata": {},
   "outputs": [
    {
     "name": "stdin",
     "output_type": "stream",
     "text": [
      "enter first number 6\n",
      "enter second number 4\n"
     ]
    },
    {
     "name": "stdout",
     "output_type": "stream",
     "text": [
      "largest number is : 6\n"
     ]
    }
   ],
   "source": [
    "\n",
    "#3\n",
    "num1=int(input(\"enter first number\"))\n",
    "num2=int(input(\"enter second number\"))\n",
    "if num1>num2:\n",
    "    largest=num1\n",
    "    print(\"largest number is :\",largest)\n",
    "elif num2>num1:\n",
    "    largest=num2\n",
    "    print(\"largest number is :\",largest)"
   ]
  },
  {
   "cell_type": "code",
   "execution_count": 30,
   "id": "3a407d5c-32ec-490c-9d1a-cb7ee0a632ed",
   "metadata": {},
   "outputs": [
    {
     "name": "stdin",
     "output_type": "stream",
     "text": [
      "enter your score 89\n"
     ]
    },
    {
     "name": "stdout",
     "output_type": "stream",
     "text": [
      "grade a\n"
     ]
    }
   ],
   "source": [
    "#4\n",
    "score=int(input(\"enter your score\"))\n",
    "if score>=90:\n",
    "    print(\"distinction\")\n",
    "elif score>=70:\n",
    "    print(\"grade a\")\n",
    "elif score>=60:\n",
    "    print(\"grade b\")\n",
    "elif score>=50:\n",
    "    print(\"grade c\")\n",
    "elif score>=33:\n",
    "    print(\"grade d\")\n",
    "else:\n",
    "    print(\"fail\")"
   ]
  },
  {
   "cell_type": "code",
   "execution_count": 31,
   "id": "52753476-4809-413e-a5db-bbd3fac4c9e4",
   "metadata": {},
   "outputs": [
    {
     "name": "stdin",
     "output_type": "stream",
     "text": [
      "enter year : 2016\n"
     ]
    },
    {
     "name": "stdout",
     "output_type": "stream",
     "text": [
      "this year is leap year : 2016\n"
     ]
    }
   ],
   "source": [
    "#5\n",
    "year=int(input(\"enter year :\"))\n",
    "if year%4==0  and year%100!=0 or year%400==0:\n",
    "    print(\"this year is leap year :\",year)\n",
    "else:\n",
    "    print(\"this is not\")"
   ]
  },
  {
   "cell_type": "code",
   "execution_count": 32,
   "id": "0ec01c1c-05dd-407a-84df-0067d05962b7",
   "metadata": {},
   "outputs": [
    {
     "name": "stdin",
     "output_type": "stream",
     "text": [
      "x:  6\n",
      "y:  6\n",
      "z:  5\n"
     ]
    },
    {
     "name": "stdout",
     "output_type": "stream",
     "text": [
      "isosceles triangle\n"
     ]
    }
   ],
   "source": [
    "#6\n",
    "x=int(input(\"x: \"))\n",
    "y=int(input(\"y: \"))\n",
    "z=int(input(\"z: \"))\n",
    "if x==y==z:\n",
    "    print(\"equitorial triangle\")\n",
    "elif x==y or y==z or z==x:\n",
    "    print(\"isosceles triangle\")\n",
    "else:\n",
    "    print(\"scalene triangle\")"
   ]
  },
  {
   "cell_type": "code",
   "execution_count": 44,
   "id": "2491dd05-2ee7-4589-95b4-4f9be257caab",
   "metadata": {},
   "outputs": [
    {
     "name": "stdin",
     "output_type": "stream",
     "text": [
      "enter first number 5\n",
      "enter second number 4\n",
      "enter third number 34\n"
     ]
    },
    {
     "name": "stdout",
     "output_type": "stream",
     "text": [
      "greatest number is: 34\n"
     ]
    }
   ],
   "source": [
    "#7\n",
    "num1=int(input(\"enter first number\"))\n",
    "num2=int(input(\"enter second number\"))\n",
    "num3=int(input(\"enter third number\"))\n",
    "if num1>num2:\n",
    "    if num1>num3:\n",
    "        great=num1\n",
    "    else:\n",
    "        great=num3\n",
    "else:\n",
    "    if num2>num1:\n",
    "        great=num2\n",
    "    else:\n",
    "        great=num3\n",
    "print(\"greatest number is:\",great)"
   ]
  },
  {
   "cell_type": "code",
   "execution_count": 34,
   "id": "d7141326-44e5-4e09-a280-4d4b8ca59eee",
   "metadata": {},
   "outputs": [
    {
     "name": "stdin",
     "output_type": "stream",
     "text": [
      "enter a word pwskills\n"
     ]
    },
    {
     "name": "stdout",
     "output_type": "stream",
     "text": [
      "pwskills is a vowel\n"
     ]
    }
   ],
   "source": [
    "#8\n",
    "char=input(\"enter a word\")\n",
    "if(char=='a',char=='e',char=='i',char=='o',char=='u'):\n",
    "    print(char ,\"is a vowel\")\n",
    "else:\n",
    "    print(char,\"is a consonant\")"
   ]
  },
  {
   "cell_type": "code",
   "execution_count": 35,
   "id": "d0c38a89-3f33-403d-aecf-f075d6227acb",
   "metadata": {},
   "outputs": [
    {
     "name": "stdout",
     "output_type": "stream",
     "text": [
      "Discounted Price: 480.00\n"
     ]
    }
   ],
   "source": [
    "#9\n",
    "def calculate_discounted_price(amount):\n",
    "    if amount < 100:\n",
    "        discount = 0\n",
    "    elif amount < 500:\n",
    "        discount = 0.1\n",
    "    elif amount < 1000:\n",
    "        discount = 0.2\n",
    "    else:\n",
    "        discount = 0.3\n",
    "\n",
    "    discounted_price = amount - (amount * discount)\n",
    "    print(f\"Discounted Price: {discounted_price:.2f}\")\n",
    "\n",
    "# Example usage:\n",
    "calculate_discounted_price(600)\n"
   ]
  },
  {
   "cell_type": "code",
   "execution_count": 36,
   "id": "70f2d01e-e32e-468f-8ae9-4207bf88f1e7",
   "metadata": {},
   "outputs": [
    {
     "name": "stdin",
     "output_type": "stream",
     "text": [
      "enter any number 56\n"
     ]
    },
    {
     "name": "stdout",
     "output_type": "stream",
     "text": [
      "even number\n"
     ]
    }
   ],
   "source": [
    "#10\n",
    "n=int(input(\"enter any number\"))\n",
    "if n%2==0:\n",
    "    print(\"even number\")\n",
    "else:\n",
    "    print(\"odd number\")"
   ]
  },
  {
   "cell_type": "markdown",
   "id": "48ae01d0-b436-4527-90f9-0f660cd6cd2c",
   "metadata": {},
   "source": [
    "##  intermediate level  ##"
   ]
  },
  {
   "cell_type": "code",
   "execution_count": 37,
   "id": "c9bee125-c403-4cde-bec7-ab2b653fb562",
   "metadata": {},
   "outputs": [
    {
     "name": "stdout",
     "output_type": "stream",
     "text": [
      "Root 1: 2.0\n",
      "Root 2: 1.0\n"
     ]
    }
   ],
   "source": [
    "#11\n",
    "import math\n",
    "\n",
    "def calculate_roots(a, b, c):\n",
    "    # Calculate the discriminant\n",
    "    discriminant = b**2 - 4*a*c\n",
    "\n",
    "    # Check if the discriminant is non-negative\n",
    "    if discriminant >= 0:\n",
    "        # Calculate the roots\n",
    "        root1 = (-b + math.sqrt(discriminant)) / (2*a)\n",
    "        root2 = (-b - math.sqrt(discriminant)) / (2*a)\n",
    "\n",
    "        print(\"Root 1:\", root1)\n",
    "        print(\"Root 2:\", root2)\n",
    "    else:\n",
    "        # If discriminant is negative, roots are complex\n",
    "        real_part = -b / (2*a)\n",
    "        imaginary_part = math.sqrt(abs(discriminant)) / (2*a)\n",
    "\n",
    "        root1 = complex(real_part, imaginary_part)\n",
    "        root2 = complex(real_part, -imaginary_part)\n",
    "\n",
    "        print(\"Root 1:\", root1)\n",
    "        print(\"Root 2:\", root2)\n",
    "\n",
    "# Example usage:\n",
    "calculate_roots(1, -3, 2)\n"
   ]
  },
  {
   "cell_type": "code",
   "execution_count": 38,
   "id": "149f3000-ed71-4a86-a6bf-e881d529605e",
   "metadata": {},
   "outputs": [
    {
     "name": "stdin",
     "output_type": "stream",
     "text": [
      "enter a number from 0 to 7 4\n"
     ]
    },
    {
     "name": "stdout",
     "output_type": "stream",
     "text": [
      "wednesday\n"
     ]
    }
   ],
   "source": [
    "#12\n",
    "day=int(input(\"enter a number from 0 to 7\"))\n",
    "if day==1:\n",
    "    print(\"sunday\")\n",
    "elif day==2:\n",
    "    print(\"monday\")\n",
    "elif day==3:\n",
    "    print(\"tuesday\")\n",
    "elif day==4:\n",
    "    print(\"wednesday\")\n",
    "elif day==5:\n",
    "    print(\"thrusday\")\n",
    "elif day==6:\n",
    "    print(\"friday\")\n",
    "elif day==7:\n",
    "    print(\"saturday\")\n",
    "else:\n",
    "    print(\"invalid number\")\n",
    "    "
   ]
  },
  {
   "cell_type": "code",
   "execution_count": 39,
   "id": "2c702279-b6bc-441e-a764-9e3a9f9f7cb5",
   "metadata": {},
   "outputs": [
    {
     "name": "stdout",
     "output_type": "stream",
     "text": [
      "120\n"
     ]
    }
   ],
   "source": [
    "#13\n",
    "def factorial(n):\n",
    "    fact=1\n",
    "    for i in range(1,n+1):\n",
    "        fact=fact*i\n",
    "    return fact\n",
    "print(factorial(5))"
   ]
  },
  {
   "cell_type": "code",
   "execution_count": 40,
   "id": "db181c0a-5a3f-4146-9704-b5c325ff8b56",
   "metadata": {},
   "outputs": [
    {
     "name": "stdin",
     "output_type": "stream",
     "text": [
      "enter first number 5\n",
      "enter second number 3\n",
      "enter third number 1\n"
     ]
    },
    {
     "name": "stdout",
     "output_type": "stream",
     "text": [
      "the largest among these three numbers is : 5\n"
     ]
    }
   ],
   "source": [
    "#14\n",
    "num1=int(input(\"enter first number\"))\n",
    "num2=int(input(\"enter second number\"))\n",
    "num3=int(input(\"enter third number\"))\n",
    "if(num1>num2) and (num1>num3):\n",
    "    largest=num1\n",
    "elif (num2>num3) and (num2>num1):\n",
    "    largest=num2\n",
    "else:\n",
    "    largest=num3\n",
    "print(\"the largest among these three numbers is :\",largest)"
   ]
  },
  {
   "cell_type": "code",
   "execution_count": 41,
   "id": "e6b3cdf8-d560-4a97-90d0-0059932f51b8",
   "metadata": {},
   "outputs": [
    {
     "name": "stdin",
     "output_type": "stream",
     "text": [
      "please enter four digit pin 1234\n"
     ]
    },
    {
     "name": "stdout",
     "output_type": "stream",
     "text": [
      "1-withdraw\n",
      "2-balance enquiry\n",
      "3-fast cash\n"
     ]
    },
    {
     "name": "stdin",
     "output_type": "stream",
     "text": [
      "choose transactions 1\n",
      "enter your withdraw amount 2500\n"
     ]
    },
    {
     "name": "stdout",
     "output_type": "stream",
     "text": [
      "please take your amount\n"
     ]
    }
   ],
   "source": [
    " #15\n",
    "p=int(input(\"please enter four digit pin\"))\n",
    "m=25000\n",
    "if p==1234:\n",
    "    print(\"1-withdraw\")\n",
    "    print(\"2-balance enquiry\")\n",
    "    print(\"3-fast cash\")\n",
    "    c=int(input(\"choose transactions\"))\n",
    "    if c==1:\n",
    "        w=int(input(\"enter your withdraw amount\"))\n",
    "        if(w<m and w%100==0):\n",
    "            print(\"please take your amount\")\n",
    "        else:\n",
    "            print(\"invalid cash\")\n",
    "    elif c==2:\n",
    "        print(\"your availablr amount\",m)\n",
    "    elif c==3:\n",
    "        print(\"1->5000\")\n",
    "        print(\"2->10000\")\n",
    "        print(\"3->15000\")\n",
    "        print(\"4->20000\")\n",
    "        \n",
    "        f=int(input(\"enter fast cash option\"))\n",
    "        if f==1 and 5000<m:\n",
    "            print(\"please take cash of 5000\")\n",
    "        elif f==2 and 10000<m:\n",
    "            print(\"please take your cash of 10000\")\n",
    "        elif f==3 and 15000<m:\n",
    "            print(\"please take your cash of 15000\")\n",
    "        elif f==4 and 20000<m:\n",
    "            print(\"please take your cash of 20000\")\n",
    "        else:\n",
    "            print(\"your account is insufficient of balance\")\n",
    "    else:\n",
    "        print(\"wrong choice\")\n",
    "else:\n",
    "    print(\"your entered pin in incorrect\")"
   ]
  },
  {
   "cell_type": "code",
   "execution_count": 45,
   "id": "28d5a946-3389-4250-9544-7ee9ead1d7d3",
   "metadata": {},
   "outputs": [
    {
     "name": "stdout",
     "output_type": "stream",
     "text": [
      "string is pallindrome\n",
      "None\n"
     ]
    }
   ],
   "source": [
    "#16\n",
    "def pallindrome(string_):\n",
    "    if string_==string_[::-1]:\n",
    "        print(\"string is pallindrome\")\n",
    "    else:\n",
    "        print(\"this is not\")\n",
    "        \n",
    "print(pallindrome(\"madam\"))"
   ]
  },
  {
   "cell_type": "code",
   "execution_count": 47,
   "id": "e002d987-cf37-499f-bd2a-afe3a75e4c2a",
   "metadata": {},
   "outputs": [
    {
     "name": "stdin",
     "output_type": "stream",
     "text": [
      "enter the numbers to be inserted 3\n",
      "enter element 23\n",
      "enter element 45\n",
      "enter element 56\n"
     ]
    },
    {
     "name": "stdout",
     "output_type": "stream",
     "text": [
      "average of elements in the list 41.33\n"
     ]
    }
   ],
   "source": [
    "#17\n",
    "n=int(input(\"enter the numbers to be inserted\"))\n",
    "a=[]\n",
    "for i in range(0,n):\n",
    "    ele=int(input(\"enter element\"))\n",
    "    a.append(ele)\n",
    "avg=sum(a)/n\n",
    "print(\"average of elements in the list\",round(avg,2))"
   ]
  },
  {
   "cell_type": "code",
   "execution_count": 48,
   "id": "da0e35ef-78d3-4512-b339-093192208be1",
   "metadata": {},
   "outputs": [
    {
     "name": "stdin",
     "output_type": "stream",
     "text": [
      "enter the temperature in celcius 10\n"
     ]
    },
    {
     "name": "stdout",
     "output_type": "stream",
     "text": [
      "temperature in fahrenheit : 50.0\n"
     ]
    }
   ],
   "source": [
    "#18\n",
    "celsius=int(input(\"enter the temperature in celcius\"))\n",
    "fahrenheit=(1.8*celsius)+32\n",
    "print(\"temperature in fahrenheit :\",fahrenheit)"
   ]
  },
  {
   "cell_type": "code",
   "execution_count": 50,
   "id": "01582003-8cf9-46cd-9e93-205d7ea92a17",
   "metadata": {},
   "outputs": [
    {
     "name": "stdin",
     "output_type": "stream",
     "text": [
      "enter first number 23\n",
      "enter op('+','-','*','/') +\n",
      "enter second number 45\n"
     ]
    },
    {
     "name": "stdout",
     "output_type": "stream",
     "text": [
      "68\n"
     ]
    }
   ],
   "source": [
    "#19\n",
    "num1=int(input(\"enter first number\"))\n",
    "op=input(\"enter op('+','-','*','/')\")\n",
    "num2=int(input(\"enter second number\"))\n",
    "if op=='+':\n",
    "         print(num1+num2)\n",
    "elif op=='-':\n",
    "         print(num1-num2)\n",
    "elif op=='*':\n",
    "         print(num1*num2)\n",
    "elif op=='/':\n",
    "         print(num1/num2)\n",
    "         \n",
    "else:\n",
    "         print(\"invalid operations\")"
   ]
  },
  {
   "cell_type": "code",
   "execution_count": 129,
   "id": "caf7463a-fbd7-40f4-ba2e-fa60f3198f8e",
   "metadata": {},
   "outputs": [
    {
     "name": "stdout",
     "output_type": "stream",
     "text": [
      "The roots of the cubic equation are: ((1-0j), (3+3.700743415417188e-17j), (2-7.401486830834377e-17j))\n"
     ]
    }
   ],
   "source": [
    "#20\n",
    "import cmath\n",
    "\n",
    "def cubic_roots(a, b, c, d):\n",
    "    # Discriminant\n",
    "    delta0 = b**2 - 3*a*c\n",
    "    delta1 = 2*b**3 - 9*a*b*c + 27*a**2*d\n",
    "    C = ((delta1 + cmath.sqrt(delta1**2 - 4*delta0**3)) / 2)**(1/3)\n",
    "\n",
    "    if C != 0:\n",
    "        root1 = (-1/(3*a)) * (b + C + delta0/C)\n",
    "    else:\n",
    "        root1 = -b/(3*a)\n",
    "\n",
    "    omega = -0.5 + (cmath.sqrt(3)/2) * 1j\n",
    "    root2 = (-1/(3*a)) * (b + omega*C + delta0/(omega*C))\n",
    "    root3 = (-1/(3*a)) * (b + omega**2*C + delta0/(omega**2*C))\n",
    "\n",
    "    return root1, root2, root3\n",
    "\n",
    "# Example usage:\n",
    "a = 1\n",
    "b = -6\n",
    "c = 11\n",
    "d = -6\n",
    "\n",
    "roots = cubic_roots(a, b, c, d)\n",
    "print(f\"The roots of the cubic equation are: {roots}\")\n"
   ]
  },
  {
   "cell_type": "code",
   "execution_count": 131,
   "id": "d8e93438-fd9e-4804-b488-7c0d5718de20",
   "metadata": {},
   "outputs": [
    {
     "name": "stdin",
     "output_type": "stream",
     "text": [
      "Enter your income:  200000\n"
     ]
    },
    {
     "name": "stdout",
     "output_type": "stream",
     "text": [
      "Your income tax is: 64000.10\n"
     ]
    }
   ],
   "source": [
    "#21\n",
    "def calculate_income_tax(income):\n",
    "    # Define tax brackets and their corresponding rates\n",
    "    brackets = [(0, 10000, 0.1), (10001, 50000, 0.2), (50001, 100000, 0.3), (100001, float('inf'), 0.4)]\n",
    "\n",
    "    # Initialize tax\n",
    "    tax = 0\n",
    "\n",
    "    # Calculate tax based on income and tax brackets\n",
    "    for bracket in brackets:\n",
    "        lower_limit, upper_limit, rate = bracket\n",
    "        if income > upper_limit:\n",
    "            tax += (upper_limit - lower_limit + 1) * rate\n",
    "        else:\n",
    "            tax += (income - lower_limit + 1) * rate\n",
    "            break\n",
    "\n",
    "    return tax\n",
    "\n",
    "# Example usage:\n",
    "user_income = float(input(\"Enter your income: \"))\n",
    "income_tax = calculate_income_tax(user_income)\n",
    "print(f\"Your income tax is: {income_tax:.2f}\")\n"
   ]
  },
  {
   "cell_type": "code",
   "execution_count": 55,
   "id": "2cd7d066-f4fd-4000-aafb-3c1044b13190",
   "metadata": {},
   "outputs": [
    {
     "name": "stdin",
     "output_type": "stream",
     "text": [
      "enter a choice(rock,paper,scissors): rock\n"
     ]
    },
    {
     "name": "stdout",
     "output_type": "stream",
     "text": [
      "both players selectedrock.it's a tie\n"
     ]
    }
   ],
   "source": [
    "#22\n",
    "import random\n",
    "user_action=input(\"enter a choice(rock,paper,scissors):\")\n",
    "possible_actions=[\"rock\",\"paper\",\"scissors\"]\n",
    "computer_action=random.choice(possible_actions)\n",
    "if user_action==computer_action:\n",
    "    print(f\"both players selected{user_action}.it's a tie\")\n",
    "elif user_action==\"rock\":\n",
    "    if computer_action==\"scissors\":\n",
    "        print(\"rock smashes scissors ! you won!\")\n",
    "    else:\n",
    "        print(\"paper covers rock ! you lose\")\n",
    "        \n",
    "elif user_action==\"paper\":\n",
    "    if computer_action==\"rock\":\n",
    "        print(\"paper covers rock ! you won\")\n",
    "    else:\n",
    "        print(\"scissors cuts paper!you lose\")\n",
    "elif user_action==\"scissors\":\n",
    "    if computer_action==\"paper\":\n",
    "        print(\"scissors cuts paper! you win\")\n",
    "    else:\n",
    "        print(\"rock smashes scissor! you lose\")"
   ]
  },
  {
   "cell_type": "code",
   "execution_count": 58,
   "id": "ab7bac16-519f-4c3b-9e19-d2bf4bb3af50",
   "metadata": {},
   "outputs": [
    {
     "name": "stderr",
     "output_type": "stream",
     "text": [
      "<>:7: SyntaxWarning: 'int' object is not callable; perhaps you missed a comma?\n",
      "<>:9: SyntaxWarning: 'int' object is not callable; perhaps you missed a comma?\n",
      "<>:7: SyntaxWarning: 'int' object is not callable; perhaps you missed a comma?\n",
      "<>:9: SyntaxWarning: 'int' object is not callable; perhaps you missed a comma?\n"
     ]
    },
    {
     "name": "stdin",
     "output_type": "stream",
     "text": [
      "enter the income 6464643345\n"
     ]
    },
    {
     "name": "stdout",
     "output_type": "stream",
     "text": [
      "income tax : 323219667.25\n"
     ]
    },
    {
     "name": "stderr",
     "output_type": "stream",
     "text": [
      "/tmp/ipykernel_965/537540306.py:7: SyntaxWarning: 'int' object is not callable; perhaps you missed a comma?\n",
      "  tax =12500(income-500000) *0.2\n",
      "/tmp/ipykernel_965/537540306.py:9: SyntaxWarning: 'int' object is not callable; perhaps you missed a comma?\n",
      "  tax=112500(income-1000000)*0.3\n"
     ]
    }
   ],
   "source": [
    "#21\n",
    "income=float(input(\"enter the income\"))\n",
    "if income<=250000:\n",
    "    tax=0\n",
    "elif income>=500000:\n",
    "    tax=(income-250000)*0.05\n",
    "elif income<=1000000:\n",
    "    tax =12500(income-500000) *0.2\n",
    "else:\n",
    "    tax=112500(income-1000000)*0.3\n",
    "    \n",
    "    \n",
    "print(\"income tax :\",round(tax,2))"
   ]
  },
  {
   "cell_type": "code",
   "execution_count": 62,
   "id": "0c391ff0-a46c-4d7b-8c85-3900dd240fba",
   "metadata": {},
   "outputs": [
    {
     "name": "stdout",
     "output_type": "stream",
     "text": [
      "a randomly generated password is : a7dVb7vD*1\n"
     ]
    }
   ],
   "source": [
    "#23\n",
    "import random\n",
    "def generate_password(len):\n",
    "    list_of_chars='abcdefghijklmnopqrstuvwxyzABCDEFGHIJKLMNOPQRSTUVWXYS1234567890!@#$%^&*()'\n",
    "    pass_str=''\n",
    "    for i in range(len):\n",
    "        pass_str=pass_str+random.choice(list_of_chars)\n",
    "    return pass_str\n",
    "len=10\n",
    "pass_str=generate_password(len)\n",
    "print(\"a randomly generated password is :\",pass_str)"
   ]
  },
  {
   "cell_type": "code",
   "execution_count": 132,
   "id": "1645c7ed-cab1-4196-b608-de81974ef097",
   "metadata": {},
   "outputs": [
    {
     "name": "stdout",
     "output_type": "stream",
     "text": [
      "Welcome to the Text Adventure Game!\n",
      "You find yourself in a dark cave. There are two paths ahead.\n"
     ]
    },
    {
     "name": "stdin",
     "output_type": "stream",
     "text": [
      "Do you take the left path or the right path? (left/right):  left\n"
     ]
    },
    {
     "name": "stdout",
     "output_type": "stream",
     "text": [
      "You encounter a friendly dragon! It gives you a choice of two doors.\n"
     ]
    },
    {
     "name": "stdin",
     "output_type": "stream",
     "text": [
      "Do you choose the red door or the blue door? (red/blue):  red\n"
     ]
    },
    {
     "name": "stdout",
     "output_type": "stream",
     "text": [
      "You find a treasure chest. Congratulations, you win!\n"
     ]
    }
   ],
   "source": [
    "#24\n",
    "def adventure_game():\n",
    "    print(\"Welcome to the Text Adventure Game!\")\n",
    "    print(\"You find yourself in a dark cave. There are two paths ahead.\")\n",
    "    \n",
    "    choice1 = input(\"Do you take the left path or the right path? (left/right): \").lower()\n",
    "\n",
    "    if choice1 == \"left\":\n",
    "        print(\"You encounter a friendly dragon! It gives you a choice of two doors.\")\n",
    "        choice2 = input(\"Do you choose the red door or the blue door? (red/blue): \").lower()\n",
    "\n",
    "        if choice2 == \"red\":\n",
    "            print(\"You find a treasure chest. Congratulations, you win!\")\n",
    "        elif choice2 == \"blue\":\n",
    "            print(\"Oh no! The blue door leads to a trap. Game over!\")\n",
    "        else:\n",
    "            print(\"Invalid choice. Game over!\")\n",
    "\n",
    "    elif choice1 == \"right\":\n",
    "        print(\"You come across a mysterious portal. It transports you to a magical forest.\")\n",
    "        choice3 = input(\"Do you explore deeper into the forest or try to find your way back? (explore/back): \").lower()\n",
    "\n",
    "        if choice3 == \"explore\":\n",
    "            print(\"You discover a hidden realm and meet magical creatures. Congratulations, you win!\")\n",
    "        elif choice3 == \"back\":\n",
    "            print(\"You get lost in the forest and can't find your way back. Game over!\")\n",
    "        else:\n",
    "            print(\"Invalid choice. Game over!\")\n",
    "\n",
    "    else:\n",
    "        print(\"Invalid choice. Game over!\")\n",
    "\n",
    "# Example usage:\n",
    "adventure_game()\n"
   ]
  },
  {
   "cell_type": "code",
   "execution_count": 134,
   "id": "7c407e4b-a120-4258-9e21-4df8c571a4e8",
   "metadata": {},
   "outputs": [
    {
     "name": "stdin",
     "output_type": "stream",
     "text": [
      "Enter the coefficient 'a' of the linear equation:  6\n",
      "Enter the constant term 'b' of the linear equation:  7\n"
     ]
    },
    {
     "name": "stdout",
     "output_type": "stream",
     "text": [
      "The solution for x is: -1.1666666666666667\n"
     ]
    }
   ],
   "source": [
    "#25\n",
    "def solve_linear_equation(a, b):\n",
    "    # Handle different cases of linear equations\n",
    "    if a == 0:\n",
    "        if b == 0:\n",
    "            return \"Infinite solutions (all real numbers are solutions)\"\n",
    "        else:\n",
    "            return \"No solution (contradiction)\"\n",
    "    else:\n",
    "        x = -b / a\n",
    "        return f\"The solution for x is: {x}\"\n",
    "\n",
    "# Example usage:\n",
    "equation_a = float(input(\"Enter the coefficient 'a' of the linear equation: \"))\n",
    "equation_b = float(input(\"Enter the constant term 'b' of the linear equation: \"))\n",
    "\n",
    "result = solve_linear_equation(equation_a, equation_b)\n",
    "print(result)\n"
   ]
  },
  {
   "cell_type": "code",
   "execution_count": 135,
   "id": "8157605c-f58a-489e-ae89-ae8ac623d066",
   "metadata": {},
   "outputs": [
    {
     "name": "stdout",
     "output_type": "stream",
     "text": [
      "What is the capital of France?\n",
      "1. Berlin\n",
      "2. Paris\n",
      "3. London\n",
      "4. Madrid\n"
     ]
    },
    {
     "name": "stdin",
     "output_type": "stream",
     "text": [
      "Enter the number of your answer:  1\n"
     ]
    },
    {
     "name": "stdout",
     "output_type": "stream",
     "text": [
      "Wrong! The correct answer was 2: Paris\n",
      "\n",
      "Which planet is known as the Red Planet?\n",
      "1. Venus\n",
      "2. Mars\n",
      "3. Jupiter\n",
      "4. Saturn\n"
     ]
    },
    {
     "name": "stdin",
     "output_type": "stream",
     "text": [
      "Enter the number of your answer:  2\n"
     ]
    },
    {
     "name": "stdout",
     "output_type": "stream",
     "text": [
      "Correct!\n",
      "\n",
      "What is the largest mammal?\n",
      "1. Elephant\n",
      "2. Whale Shark\n",
      "3. Blue Whale\n",
      "4. Giraffe\n"
     ]
    },
    {
     "name": "stdin",
     "output_type": "stream",
     "text": [
      "Enter the number of your answer:  3\n"
     ]
    },
    {
     "name": "stdout",
     "output_type": "stream",
     "text": [
      "Correct!\n",
      "\n"
     ]
    },
    {
     "ename": "TypeError",
     "evalue": "'int' object is not callable",
     "output_type": "error",
     "traceback": [
      "\u001b[0;31m---------------------------------------------------------------------------\u001b[0m",
      "\u001b[0;31mTypeError\u001b[0m                                 Traceback (most recent call last)",
      "Cell \u001b[0;32mIn[135], line 47\u001b[0m\n\u001b[1;32m     28\u001b[0m questions_list \u001b[38;5;241m=\u001b[39m [\n\u001b[1;32m     29\u001b[0m     {\n\u001b[1;32m     30\u001b[0m         \u001b[38;5;124m\"\u001b[39m\u001b[38;5;124mtext\u001b[39m\u001b[38;5;124m\"\u001b[39m: \u001b[38;5;124m\"\u001b[39m\u001b[38;5;124mWhat is the capital of France?\u001b[39m\u001b[38;5;124m\"\u001b[39m,\n\u001b[0;32m   (...)\u001b[0m\n\u001b[1;32m     43\u001b[0m     }\n\u001b[1;32m     44\u001b[0m ]\n\u001b[1;32m     46\u001b[0m quiz \u001b[38;5;241m=\u001b[39m QuizGame(questions_list)\n\u001b[0;32m---> 47\u001b[0m \u001b[43mquiz\u001b[49m\u001b[38;5;241;43m.\u001b[39;49m\u001b[43mplay_quiz\u001b[49m\u001b[43m(\u001b[49m\u001b[43m)\u001b[49m\n",
      "Cell \u001b[0;32mIn[135], line 25\u001b[0m, in \u001b[0;36mQuizGame.play_quiz\u001b[0;34m(self)\u001b[0m\n\u001b[1;32m     22\u001b[0m     \u001b[38;5;28;01melse\u001b[39;00m:\n\u001b[1;32m     23\u001b[0m         \u001b[38;5;28mprint\u001b[39m(\u001b[38;5;124mf\u001b[39m\u001b[38;5;124m\"\u001b[39m\u001b[38;5;124mWrong! The correct answer was \u001b[39m\u001b[38;5;132;01m{\u001b[39;00mcorrect_answer\u001b[38;5;132;01m}\u001b[39;00m\u001b[38;5;124m: \u001b[39m\u001b[38;5;132;01m{\u001b[39;00mquestion[\u001b[38;5;124m'\u001b[39m\u001b[38;5;124mchoices\u001b[39m\u001b[38;5;124m'\u001b[39m][correct_answer \u001b[38;5;241m-\u001b[39m \u001b[38;5;241m1\u001b[39m]\u001b[38;5;132;01m}\u001b[39;00m\u001b[38;5;130;01m\\n\u001b[39;00m\u001b[38;5;124m\"\u001b[39m)\n\u001b[0;32m---> 25\u001b[0m \u001b[38;5;28mprint\u001b[39m(\u001b[38;5;124mf\u001b[39m\u001b[38;5;124m\"\u001b[39m\u001b[38;5;124mYou finished the quiz! Your final score is: \u001b[39m\u001b[38;5;132;01m{\u001b[39;00m\u001b[38;5;28mself\u001b[39m\u001b[38;5;241m.\u001b[39mscore\u001b[38;5;132;01m}\u001b[39;00m\u001b[38;5;124m/\u001b[39m\u001b[38;5;132;01m{\u001b[39;00m\u001b[38;5;28;43mlen\u001b[39;49m\u001b[43m(\u001b[49m\u001b[38;5;28;43mself\u001b[39;49m\u001b[38;5;241;43m.\u001b[39;49m\u001b[43mquestions\u001b[49m\u001b[43m)\u001b[49m\u001b[38;5;132;01m}\u001b[39;00m\u001b[38;5;124m\"\u001b[39m)\n",
      "\u001b[0;31mTypeError\u001b[0m: 'int' object is not callable"
     ]
    }
   ],
   "source": [
    "#26\n",
    "class QuizGame:\n",
    "    def __init__(self, questions):\n",
    "        self.questions = questions\n",
    "        self.score = 0\n",
    "\n",
    "    def display_question(self, question):\n",
    "        print(question[\"text\"])\n",
    "        for i, choice in enumerate(question[\"choices\"], start=1):\n",
    "            print(f\"{i}. {choice}\")\n",
    "        user_answer = int(input(\"Enter the number of your answer: \"))\n",
    "        return user_answer\n",
    "\n",
    "    def play_quiz(self):\n",
    "        for question in self.questions:\n",
    "            user_answer = self.display_question(question)\n",
    "            correct_answer = question[\"correct_answer\"]\n",
    "\n",
    "            if user_answer == correct_answer:\n",
    "                print(\"Correct!\\n\")\n",
    "                self.score += 1\n",
    "            else:\n",
    "                print(f\"Wrong! The correct answer was {correct_answer}: {question['choices'][correct_answer - 1]}\\n\")\n",
    "\n",
    "        print(f\"You finished the quiz! Your final score is: {self.score}/{len(self.questions)}\")\n",
    "\n",
    "# Example usage:\n",
    "questions_list = [\n",
    "    {\n",
    "        \"text\": \"What is the capital of France?\",\n",
    "        \"choices\": [\"Berlin\", \"Paris\", \"London\", \"Madrid\"],\n",
    "        \"correct_answer\": 2\n",
    "    },\n",
    "    {\n",
    "        \"text\": \"Which planet is known as the Red Planet?\",\n",
    "        \"choices\": [\"Venus\", \"Mars\", \"Jupiter\", \"Saturn\"],\n",
    "        \"correct_answer\": 2\n",
    "    },\n",
    "    {\n",
    "        \"text\": \"What is the largest mammal?\",\n",
    "        \"choices\": [\"Elephant\", \"Whale Shark\", \"Blue Whale\", \"Giraffe\"],\n",
    "        \"correct_answer\": 3\n",
    "    }\n",
    "]\n",
    "\n",
    "quiz = QuizGame(questions_list)\n",
    "quiz.play_quiz()\n",
    "\n",
    "      "
   ]
  },
  {
   "cell_type": "code",
   "execution_count": 136,
   "id": "a24c46f5-12ba-410c-a136-4bed0204323a",
   "metadata": {},
   "outputs": [
    {
     "name": "stdin",
     "output_type": "stream",
     "text": [
      "Enter a year to check if it's prime:  2020\n"
     ]
    },
    {
     "name": "stdout",
     "output_type": "stream",
     "text": [
      "2020 is not a prime number.\n"
     ]
    }
   ],
   "source": [
    "#27\n",
    "def is_prime(year):\n",
    "    if year < 2:\n",
    "        return False\n",
    "    for i in range(2, int(year**0.5) + 1):\n",
    "        if year % i == 0:\n",
    "            return False\n",
    "    return True\n",
    "\n",
    "user_year = int(input(\"Enter a year to check if it's prime: \"))\n",
    "if is_prime(user_year):\n",
    "    print(f\"{user_year} is a prime number.\")\n",
    "else:\n",
    "    print(f\"{user_year} is not a prime number.\")\n"
   ]
  },
  {
   "cell_type": "code",
   "execution_count": 68,
   "id": "f876535d-2fd8-46e2-9785-a3ec471daf30",
   "metadata": {},
   "outputs": [
    {
     "name": "stdin",
     "output_type": "stream",
     "text": [
      "enter first number 6\n",
      "enter second number 5\n",
      "enter third number 4\n"
     ]
    },
    {
     "name": "stdout",
     "output_type": "stream",
     "text": [
      "4 < 5 < 6\n"
     ]
    }
   ],
   "source": [
    "#28\n",
    "a=int(input(\"enter first number\"))\n",
    "\n",
    "b=int(input(\"enter second number\"))\n",
    "\n",
    "c=int(input(\"enter third number\"))\n",
    "if a<b:\n",
    "    if a<c:\n",
    "        print(a,\"<\",b,\"<\",c)\n",
    "    else:\n",
    "        print(c,\"<\",a,\"<\",b)\n",
    "else:\n",
    "    if c<b:\n",
    "        print(c,\"<\",b,\"<\",a)\n",
    "    else:\n",
    "        if c<a:\n",
    "            print(b,\"<\",c,\"<\",a)\n",
    "        else:\n",
    "            print(b,\"<\",a,\"<\",c)"
   ]
  },
  {
   "cell_type": "code",
   "execution_count": 71,
   "id": "db275c28-9cb4-4970-8cee-ddd5dc960f3c",
   "metadata": {},
   "outputs": [
    {
     "name": "stdout",
     "output_type": "stream",
     "text": [
      "real and different roots\n",
      "2.0\n",
      "-12.0\n"
     ]
    }
   ],
   "source": [
    "#29\n",
    "import math\n",
    "def equation_roots(a,b,c):\n",
    "    dis=b*b-4*a*c\n",
    "    sqrt_value=math.sqrt(abs(dis))\n",
    "    if dis>0:\n",
    "        print(\"real and different roots\")\n",
    "        print((-b +sqrt_value)/(2*a))\n",
    "        print((-b -sqrt_value)/(2*a))\n",
    "    elif dis==0:\n",
    "        print(\"real and same roots\")\n",
    "        print(-b/(2*a))\n",
    "    else:\n",
    "        print(\"complex roots\")\n",
    "        print(-b/(2*a),+i,sqrt_value)\n",
    "        print(-b/(2*a),-1,sqrt_value)\n",
    "        \n",
    "##driver code\n",
    "a=1\n",
    "b=10\n",
    "c=-24\n",
    "if a==0:\n",
    "    print(\"input correct quadratic equation\")\n",
    "    \n",
    "else:\n",
    "    equation_roots(a,b,c)\n",
    "        "
   ]
  },
  {
   "cell_type": "code",
   "execution_count": 70,
   "id": "fb51bd2f-2322-4fb8-b42d-843208df62a4",
   "metadata": {},
   "outputs": [
    {
     "name": "stdin",
     "output_type": "stream",
     "text": [
      "enter your height 1.7932\n",
      "enter your weight 70\n"
     ]
    },
    {
     "name": "stdout",
     "output_type": "stream",
     "text": [
      "your body mass index is is 217691.05275840935\n"
     ]
    }
   ],
   "source": [
    "#30\n",
    "\n",
    "height=float(input(\"enter your height\"))\n",
    "weight=float(input(\"enter your weight\"))\n",
    "BMI=weight/(height/100)**2\n",
    "if BMI<18.4:\n",
    "    print(\"underweight\")\n",
    "elif BMI>=18.4 and BMI<24.9:\n",
    "    print(\"normal weight\")\n",
    "elif BMI>=24.9 and BMI <29.9:\n",
    "    print(\"overweight\")\n",
    "elif BMI>=30 and BMI==40:\n",
    "    print(\"suffering from obesity\")\n",
    "print(\"your body mass index is\",BMI)"
   ]
  },
  {
   "cell_type": "markdown",
   "id": "e69eea17-ff83-4362-b065-3d0bdd3913d6",
   "metadata": {},
   "source": [
    "### challenge level ###"
   ]
  },
  {
   "cell_type": "code",
   "execution_count": 1,
   "id": "c6af3a17-f503-4e5a-b5b5-8d5df3eaf140",
   "metadata": {},
   "outputs": [
    {
     "name": "stdout",
     "output_type": "stream",
     "text": [
      "Password is valid.\n",
      "None\n"
     ]
    }
   ],
   "source": [
    "#31\n",
    "def validate_password(password):\n",
    "    # Password rules: at least 8 characters, including uppercase, lowercase, and a number.\n",
    "    if len(password) >= 8 and any(char.isupper() for char in password) and any(char.islower() for char in password) and any(char.isdigit() for char in password):\n",
    "        print(\"Password is valid.\")\n",
    "    else:\n",
    "        print(\"Password is invalid.\")\n",
    "\n",
    "\n",
    "print(validate_password(\"StrongP@ssword1\"))\n"
   ]
  },
  {
   "cell_type": "code",
   "execution_count": 2,
   "id": "5aa1d797-7b36-49fa-a602-498d7fc06e21",
   "metadata": {},
   "outputs": [
    {
     "name": "stdout",
     "output_type": "stream",
     "text": [
      "Matrix Addition:\n",
      "[[6, 8], [10, 12]]\n",
      "\n",
      "Matrix Subtraction:\n",
      "[[-4, -4], [-4, -4]]\n"
     ]
    }
   ],
   "source": [
    "#32\n",
    "def matrix_addition(matrix1, matrix2):\n",
    "    result = [[matrix1[i][j] + matrix2[i][j] for j in range(len(matrix1[0]))] for i in range(len(matrix1))]\n",
    "    return result\n",
    "\n",
    "def matrix_subtraction(matrix1, matrix2):\n",
    "    result = [[matrix1[i][j] - matrix2[i][j] for j in range(len(matrix1[0]))] for i in range(len(matrix1))]\n",
    "    return result\n",
    "\n",
    "# Example usage:\n",
    "matrix1 = [[1, 2], [3, 4]]\n",
    "matrix2 = [[5, 6], [7, 8]]\n",
    "\n",
    "result_addition = matrix_addition(matrix1, matrix2)\n",
    "result_subtraction = matrix_subtraction(matrix1, matrix2)\n",
    "\n",
    "print(\"Matrix Addition:\")\n",
    "print(result_addition)\n",
    "\n",
    "print(\"\\nMatrix Subtraction:\")\n",
    "print(result_subtraction)\n"
   ]
  },
  {
   "cell_type": "code",
   "execution_count": 94,
   "id": "fd63e2c6-c8f1-4102-8b7e-672f798a62d7",
   "metadata": {},
   "outputs": [
    {
     "name": "stdout",
     "output_type": "stream",
     "text": [
      "GCD of 48 and 18 is 6\n"
     ]
    }
   ],
   "source": [
    "#33\n",
    "def gcd_euclidean(a, b):\n",
    "    while b:\n",
    "        a, b = b, a % b\n",
    "    return a\n",
    "\n",
    "# Example usage:\n",
    "num1 = 48\n",
    "num2 = 18\n",
    "result_gcd = gcd_euclidean(num1, num2)\n",
    "print(f\"GCD of {num1} and {num2} is {result_gcd}\")\n",
    "\n"
   ]
  },
  {
   "cell_type": "code",
   "execution_count": null,
   "id": "007c614f-9756-4ec5-a708-83ba50f7463f",
   "metadata": {},
   "outputs": [],
   "source": []
  },
  {
   "cell_type": "code",
   "execution_count": null,
   "id": "fe26b80c-f201-4df8-a08d-67735f3ae1b4",
   "metadata": {},
   "outputs": [],
   "source": []
  },
  {
   "cell_type": "code",
   "execution_count": null,
   "id": "2670bf96-b91e-4c5f-8be3-1b477fe5df91",
   "metadata": {},
   "outputs": [],
   "source": []
  },
  {
   "cell_type": "code",
   "execution_count": null,
   "id": "cbddfcf1-4972-4d3c-b90e-d7f56763ecb9",
   "metadata": {},
   "outputs": [],
   "source": []
  },
  {
   "cell_type": "code",
   "execution_count": 3,
   "id": "6176fbb3-bb67-4705-af7c-5c127cc8f0f3",
   "metadata": {},
   "outputs": [
    {
     "name": "stdout",
     "output_type": "stream",
     "text": [
      "Matrix Multiplication:\n",
      "[[23, 20], [55, 48]]\n"
     ]
    }
   ],
   "source": [
    "#34\n",
    "def matrix_multiplication(matrix1, matrix2):\n",
    "    result = [[sum(matrix1[i][k] * matrix2[k][j] for k in range(len(matrix2))) for j in range(len(matrix2[0]))] for i in range(len(matrix1))]\n",
    "    return result\n",
    "\n",
    "# Example usage:\n",
    "matrix3 = [[9, 8], [7, 6]]\n",
    "\n",
    "result_multiplication = matrix_multiplication(matrix1, matrix3)\n",
    "print(\"Matrix Multiplication:\")\n",
    "print(result_multiplication)\n"
   ]
  },
  {
   "cell_type": "code",
   "execution_count": 100,
   "id": "c221ac0e-2250-49fe-a53a-36ef8fd30de9",
   "metadata": {},
   "outputs": [
    {
     "name": "stdout",
     "output_type": "stream",
     "text": [
      "     \n",
      "     \n",
      "     \n",
      "Current Player: O\n"
     ]
    },
    {
     "name": "stdin",
     "output_type": "stream",
     "text": [
      "Enter row (0, 1, or 2):  1\n",
      "Enter column (0, 1, or 2):  0\n"
     ]
    },
    {
     "name": "stdout",
     "output_type": "stream",
     "text": [
      "     \n",
      "O    \n",
      "     \n",
      "Current Player: X\n"
     ]
    },
    {
     "name": "stdin",
     "output_type": "stream",
     "text": [
      "Enter row (0, 1, or 2):  1\n",
      "Enter column (0, 1, or 2):  1\n"
     ]
    },
    {
     "name": "stdout",
     "output_type": "stream",
     "text": [
      "     \n",
      "O X  \n",
      "     \n",
      "Current Player: O\n"
     ]
    },
    {
     "name": "stdin",
     "output_type": "stream",
     "text": [
      "Enter row (0, 1, or 2):  2\n",
      "Enter column (0, 1, or 2):  2\n"
     ]
    },
    {
     "name": "stdout",
     "output_type": "stream",
     "text": [
      "     \n",
      "O X  \n",
      "    O\n",
      "Current Player: X\n"
     ]
    },
    {
     "name": "stdin",
     "output_type": "stream",
     "text": [
      "Enter row (0, 1, or 2):  0\n",
      "Enter column (0, 1, or 2):  1\n"
     ]
    },
    {
     "name": "stdout",
     "output_type": "stream",
     "text": [
      "  X  \n",
      "O X  \n",
      "    O\n",
      "Current Player: O\n"
     ]
    },
    {
     "name": "stdin",
     "output_type": "stream",
     "text": [
      "Enter row (0, 1, or 2):  1\n",
      "Enter column (0, 1, or 2):  1\n"
     ]
    },
    {
     "name": "stdout",
     "output_type": "stream",
     "text": [
      "Cell already occupied. Try again.\n",
      "  X  \n",
      "O X  \n",
      "    O\n",
      "Current Player: O\n"
     ]
    },
    {
     "name": "stdin",
     "output_type": "stream",
     "text": [
      "Enter row (0, 1, or 2):  2\n",
      "Enter column (0, 1, or 2):  2\n"
     ]
    },
    {
     "name": "stdout",
     "output_type": "stream",
     "text": [
      "Cell already occupied. Try again.\n",
      "  X  \n",
      "O X  \n",
      "    O\n",
      "Current Player: O\n"
     ]
    },
    {
     "name": "stdin",
     "output_type": "stream",
     "text": [
      "Enter row (0, 1, or 2):  2\n",
      "Enter column (0, 1, or 2):  0\n"
     ]
    },
    {
     "name": "stdout",
     "output_type": "stream",
     "text": [
      "  X  \n",
      "O X  \n",
      "O   O\n",
      "Current Player: X\n"
     ]
    },
    {
     "name": "stdin",
     "output_type": "stream",
     "text": [
      "Enter row (0, 1, or 2):  2\n",
      "Enter column (0, 1, or 2):  1\n"
     ]
    },
    {
     "name": "stdout",
     "output_type": "stream",
     "text": [
      "  X  \n",
      "O X  \n",
      "O X O\n",
      "Player X wins!\n",
      "Game Over.\n"
     ]
    }
   ],
   "source": [
    "# #35\n",
    "# Implementation can be more complex, but here's a basic example:\n",
    "import random\n",
    "\n",
    "def print_board(board):\n",
    "    for row in board:\n",
    "        print(\" \".join(row))\n",
    "\n",
    "def is_winner(board, player):\n",
    "    # Check rows, columns, and diagonals for a win\n",
    "    return any(all(cell == player for cell in row) for row in board) or \\\n",
    "           any(all(row[i] == player for row in board) for i in range(3)) or \\\n",
    "           all(board[i][i] == player for i in range(3)) or \\\n",
    "           all(board[i][2 - i] == player for i in range(3))\n",
    "\n",
    "def play_tic_tac_toe():\n",
    "    board = [[' ' for _ in range(3)] for _ in range(3)]\n",
    "    players = ['X', 'O']\n",
    "    current_player = random.choice(players)\n",
    "\n",
    "    while ' ' in [cell for row in board for cell in row]:\n",
    "        print_board(board)\n",
    "        print(f\"Current Player: {current_player}\")\n",
    "\n",
    "        row = int(input(\"Enter row (0, 1, or 2): \"))\n",
    "        col = int(input(\"Enter column (0, 1, or 2): \"))\n",
    "\n",
    "        if board[row][col] == ' ':\n",
    "            board[row][col] = current_player\n",
    "            if is_winner(board, current_player):\n",
    "                print_board(board)\n",
    "                print(f\"Player {current_player} wins!\")\n",
    "                break\n",
    "            else:\n",
    "                current_player = players[(players.index(current_player) + 1) % 2]\n",
    "        else:\n",
    "            print(\"Cell already occupied. Try again.\")\n",
    "\n",
    "    print(\"Game Over.\")\n",
    "\n",
    "# Example usage:\n",
    "play_tic_tac_toe()\n"
   ]
  },
  {
   "cell_type": "code",
   "execution_count": 108,
   "id": "e7e5d1b7-2275-4c41-9b4d-3045ba250089",
   "metadata": {},
   "outputs": [
    {
     "ename": "TypeError",
     "evalue": "'int' object is not callable",
     "output_type": "error",
     "traceback": [
      "\u001b[0;31m---------------------------------------------------------------------------\u001b[0m",
      "\u001b[0;31mTypeError\u001b[0m                                 Traceback (most recent call last)",
      "Cell \u001b[0;32mIn[108], line 11\u001b[0m\n\u001b[1;32m      7\u001b[0m     \u001b[38;5;28;01mreturn\u001b[39;00m fibonacci_sequence\n\u001b[1;32m     10\u001b[0m n \u001b[38;5;241m=\u001b[39m \u001b[38;5;241m10\u001b[39m\n\u001b[0;32m---> 11\u001b[0m fibonacci_sequence \u001b[38;5;241m=\u001b[39m \u001b[43mgenerate_fibonacci\u001b[49m\u001b[43m(\u001b[49m\u001b[43mn\u001b[49m\u001b[43m)\u001b[49m\n\u001b[1;32m     12\u001b[0m \u001b[38;5;28mprint\u001b[39m(\u001b[38;5;124mf\u001b[39m\u001b[38;5;124m\"\u001b[39m\u001b[38;5;124mFibonacci sequence up to term \u001b[39m\u001b[38;5;132;01m{\u001b[39;00mn\u001b[38;5;132;01m}\u001b[39;00m\u001b[38;5;124m: \u001b[39m\u001b[38;5;132;01m{\u001b[39;00mfibonacci_sequence\u001b[38;5;132;01m}\u001b[39;00m\u001b[38;5;124m\"\u001b[39m)\n",
      "Cell \u001b[0;32mIn[108], line 4\u001b[0m, in \u001b[0;36mgenerate_fibonacci\u001b[0;34m(n)\u001b[0m\n\u001b[1;32m      2\u001b[0m \u001b[38;5;28;01mdef\u001b[39;00m \u001b[38;5;21mgenerate_fibonacci\u001b[39m(n):\n\u001b[1;32m      3\u001b[0m     fibonacci_sequence \u001b[38;5;241m=\u001b[39m [\u001b[38;5;241m0\u001b[39m, \u001b[38;5;241m1\u001b[39m]\n\u001b[0;32m----> 4\u001b[0m     \u001b[38;5;28;01mwhile\u001b[39;00m \u001b[38;5;28;43mlen\u001b[39;49m\u001b[43m(\u001b[49m\u001b[43mfibonacci_sequence\u001b[49m\u001b[43m)\u001b[49m \u001b[38;5;241m<\u001b[39m n:\n\u001b[1;32m      5\u001b[0m         next_term \u001b[38;5;241m=\u001b[39m fibonacci_sequence[\u001b[38;5;241m-\u001b[39m\u001b[38;5;241m1\u001b[39m] \u001b[38;5;241m+\u001b[39m fibonacci_sequence[\u001b[38;5;241m-\u001b[39m\u001b[38;5;241m2\u001b[39m]\n\u001b[1;32m      6\u001b[0m         fibonacci_sequence\u001b[38;5;241m.\u001b[39mappend(next_term)\n",
      "\u001b[0;31mTypeError\u001b[0m: 'int' object is not callable"
     ]
    }
   ],
   "source": [
    "#36\n",
    "def generate_fibonacci(n):\n",
    "    fibonacci_sequence = [0, 1]\n",
    "    while len(fibonacci_sequence) < n:\n",
    "        next_term = fibonacci_sequence[-1] + fibonacci_sequence[-2]\n",
    "        fibonacci_sequence.append(next_term)\n",
    "    return fibonacci_sequence\n",
    "\n",
    "\n",
    "n = 10\n",
    "fibonacci_sequence = generate_fibonacci(n)\n",
    "print(f\"Fibonacci sequence up to term {n}: {fibonacci_sequence}\")\n"
   ]
  },
  {
   "cell_type": "code",
   "execution_count": 106,
   "id": "b5d5be15-a90f-45ff-a51d-94ee9a305790",
   "metadata": {},
   "outputs": [
    {
     "name": "stdout",
     "output_type": "stream",
     "text": [
      "The 10th term of the Fibonacci sequence is 55\n"
     ]
    }
   ],
   "source": [
    "#37\n",
    "def fibonacci_memoization(n, memo={}):\n",
    "    if n <= 1:\n",
    "        return n\n",
    "    elif n not in memo:\n",
    "        memo[n] = fibonacci_memoization(n-1, memo) + fibonacci_memoization(n-2, memo)\n",
    "    return memo[n]\n",
    "\n",
    "# Example usage:\n",
    "n = 10\n",
    "nth_term = fibonacci_memoization(n)\n",
    "print(f\"The {n}th term of the Fibonacci sequence is {nth_term}\")\n"
   ]
  },
  {
   "cell_type": "code",
   "execution_count": 105,
   "id": "0229e983-4c60-486f-84fc-d2f41864b1d8",
   "metadata": {},
   "outputs": [
    {
     "name": "stdout",
     "output_type": "stream",
     "text": [
      "         1   2   3   4   5  \n",
      " 6   7   8   9  10  11  12  \n",
      "13  14  15  16  17  18  19  \n",
      "20  21  22  23  24  25  26  \n",
      "27  28  29  30              \n"
     ]
    }
   ],
   "source": [
    "#38\n",
    "import calendar\n",
    "\n",
    "def generate_calendar(year, month):\n",
    "    cal = calendar.monthcalendar(year, month)\n",
    "    for week in cal:\n",
    "        for day in week:\n",
    "            if day == 0:\n",
    "                print(\"   \", end=\" \")\n",
    "            else:\n",
    "                print(f\"{day:2} \", end=\" \")\n",
    "        print()\n",
    "\n",
    "# Example usage:\n",
    "year = 2023\n",
    "month = 11\n",
    "generate_calendar(year, month)\n"
   ]
  },
  {
   "cell_type": "code",
   "execution_count": 104,
   "id": "1ebb6d0d-1d0a-4d05-b3c3-663d81d0df18",
   "metadata": {},
   "outputs": [
    {
     "name": "stdout",
     "output_type": "stream",
     "text": [
      "Your cards: [5, 10], current score: 15\n",
      "Computer's first card: 5\n"
     ]
    },
    {
     "name": "stdin",
     "output_type": "stream",
     "text": [
      "Type 'y' to get another card, 'n' to pass:  n\n"
     ]
    },
    {
     "name": "stdout",
     "output_type": "stream",
     "text": [
      "Your final hand: [5, 10], final score: 15\n",
      "Computer's final hand: [5, 2, 11], final score: 18\n",
      "You lose!\n"
     ]
    }
   ],
   "source": [
    "#39\n",
    "import random\n",
    "\n",
    "def deal_card():\n",
    "    cards = [11, 2, 3, 4, 5, 6, 7, 8, 9, 10, 10, 10, 10]\n",
    "    return random.choice(cards)\n",
    "\n",
    "def calculate_score(cards):\n",
    "    if sum(cards) == 21 and len(cards) == 2:\n",
    "        return 0  # Blackjack\n",
    "    if 11 in cards and sum(cards) > 21:\n",
    "        cards.remove(11)\n",
    "        cards.append(1)\n",
    "    return sum(cards)\n",
    "\n",
    "def compare(user_score, computer_score):\n",
    "    if user_score == computer_score:\n",
    "        return \"Draw!\"\n",
    "    elif computer_score == 0:\n",
    "        return \"You lose, opponent has Blackjack!\"\n",
    "    elif user_score == 0:\n",
    "        return \"You win with a Blackjack!\"\n",
    "    elif user_score > 21:\n",
    "        return \"You went over. You lose!\"\n",
    "    elif computer_score > 21:\n",
    "        return \"Opponent went over. You win!\"\n",
    "    elif user_score > computer_score:\n",
    "        return \"You win!\"\n",
    "    else:\n",
    "        return \"You lose!\"\n",
    "\n",
    "def play_blackjack():\n",
    "    user_cards = []\n",
    "    computer_cards = []\n",
    "    is_game_over = False\n",
    "\n",
    "    for _ in range(2):\n",
    "        user_cards.append(deal_card())\n",
    "        computer_cards.append(deal_card())\n",
    "\n",
    "    while not is_game_over:\n",
    "        user_score = calculate_score(user_cards)\n",
    "        computer_score = calculate_score(computer_cards)\n",
    "\n",
    "        print(f\"Your cards: {user_cards}, current score: {user_score}\")\n",
    "        print(f\"Computer's first card: {computer_cards[0]}\")\n",
    "\n",
    "        if user_score == 0 or computer_score == 0 or user_score > 21:\n",
    "            is_game_over = True\n",
    "        else:\n",
    "            another_card = input(\"Type 'y' to get another card, 'n' to pass: \").lower()\n",
    "            if another_card == 'y':\n",
    "                user_cards.append(deal_card())\n",
    "            else:\n",
    "                is_game_over = True\n",
    "\n",
    "    while computer_score != 0 and computer_score < 17:\n",
    "        computer_cards.append(deal_card())\n",
    "        computer_score = calculate_score(computer_cards)\n",
    "\n",
    "    print(f\"Your final hand: {user_cards}, final score: {user_score}\")\n",
    "    print(f\"Computer's final hand: {computer_cards}, final score: {computer_score}\")\n",
    "    print(compare(user_score, computer_score))\n",
    "\n",
    "# Example usage:\n",
    "play_blackjack()\n"
   ]
  },
  {
   "cell_type": "code",
   "execution_count": 103,
   "id": "569b1e48-d37d-4f95-8427-86231c787060",
   "metadata": {},
   "outputs": [
    {
     "name": "stdout",
     "output_type": "stream",
     "text": [
      "Prime factors of 56: [2, 2, 2, 7]\n"
     ]
    }
   ],
   "source": [
    "#40\n",
    "def prime_factors(n):\n",
    "    factors = []\n",
    "    divisor = 2\n",
    "    while n > 1:\n",
    "        while n % divisor == 0:\n",
    "            factors.append(divisor)\n",
    "            n //= divisor\n",
    "        divisor += 1\n",
    "    return factors\n",
    "\n",
    "# Example usage:\n",
    "number = 56\n",
    "factors_list = prime_factors(number)\n",
    "print(f\"Prime factors of {number}: {factors_list}\")\n"
   ]
  },
  {
   "cell_type": "code",
   "execution_count": null,
   "id": "e8872506-0f8c-4744-a64c-167664846672",
   "metadata": {},
   "outputs": [],
   "source": []
  }
 ],
 "metadata": {
  "kernelspec": {
   "display_name": "Python 3 (ipykernel)",
   "language": "python",
   "name": "python3"
  },
  "language_info": {
   "codemirror_mode": {
    "name": "ipython",
    "version": 3
   },
   "file_extension": ".py",
   "mimetype": "text/x-python",
   "name": "python",
   "nbconvert_exporter": "python",
   "pygments_lexer": "ipython3",
   "version": "3.10.8"
  }
 },
 "nbformat": 4,
 "nbformat_minor": 5
}
